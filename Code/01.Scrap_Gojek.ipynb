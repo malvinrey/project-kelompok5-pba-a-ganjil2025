{
  "cells": [
    {
      "cell_type": "markdown",
      "metadata": {
        "colab_type": "text",
        "id": "view-in-github"
      },
      "source": [
        "<a href=\"https://colab.research.google.com/github/shofwatunniswah/SentimentAnalysisOnDanantara/blob/main/Scrap_Danantara_TERBARU.ipynb\" target=\"_parent\"><img src=\"https://colab.research.google.com/assets/colab-badge.svg\" alt=\"Open In Colab\"/></a>"
      ]
    },
    {
      "cell_type": "markdown",
      "metadata": {
        "id": "MvYc-QV_3gr_"
      },
      "source": [
        "Langkah 1: Pengaturan Awal (Dilakukan di Terminal VS Code)"
      ]
    },
    {
      "cell_type": "markdown",
      "metadata": {},
      "source": [
        "Sebelum menjalankan notebook, pastikan Anda sudah membuat dan mengaktifkan lingkungan virtual. Kemudian, install semua library yang dibutuhkan melalui terminal VS Code, bukan di dalam sel notebook."
      ]
    },
    {
      "cell_type": "code",
      "execution_count": null,
      "metadata": {},
      "outputs": [],
      "source": [
        "# Buka terminal di VS Code (Ctrl + `) dan jalankan:\n",
        ".\\.venv\\Scripts\\activate\n",
        "pip install pandas newspaper3k beautifulsoup4 requests lxml_html_clean"
      ]
    },
    {
      "cell_type": "markdown",
      "metadata": {
        "id": "Kd9T1rukcKhf"
      },
      "source": [
        "Langkah 2: Import Library"
      ]
    },
    {
      "cell_type": "markdown",
      "metadata": {},
      "source": [
        "Di sel pertama notebook Anda, mulailah dengan mengimpor semua library yang akan digunakan. Ini adalah praktik yang baik untuk menjaga kode tetap terorganisir."
      ]
    },
    {
      "cell_type": "code",
      "execution_count": 1,
      "metadata": {
        "colab": {
          "base_uri": "https://localhost:8080/"
        },
        "id": "uz_5SFndFxa9",
        "outputId": "dd85a6e6-fa36-4536-a69b-70da7e16cd3c"
      },
      "outputs": [
        {
          "name": "stdout",
          "output_type": "stream",
          "text": [
            "Library berhasil diimpor.\n"
          ]
        }
      ],
      "source": [
        "# Import library yang dibutuhkan\n",
        "import pandas as pd\n",
        "import newspaper\n",
        "from newspaper import Config\n",
        "from urllib.parse import urlparse\n",
        "\n",
        "print(\"Library berhasil diimpor.\")"
      ]
    },
    {
      "cell_type": "markdown",
      "metadata": {
        "id": "tXR5DUVQcKhj"
      },
      "source": [
        "Langkah 3: Memuat Daftar URL dari File Lokal\n",
        "Kode ini sekarang akan membaca file CSV dari folder lokal (misalnya, folder data). Anda tidak perlu lagi melakukan drive.mount."
      ]
    },
    {
      "cell_type": "code",
      "execution_count": 2,
      "metadata": {
        "colab": {
          "base_uri": "https://localhost:8080/",
          "height": 423
        },
        "id": "1gTNBOLLciwL",
        "outputId": "c23b6731-bbd6-4ad4-d0b7-7e1e48a7de5f"
      },
      "outputs": [
        {
          "name": "stdout",
          "output_type": "stream",
          "text": [
            "Berhasil memuat 179 URL dari data/Link_Berita_Gojek.csv\n",
            "Contoh URL pertama: https://beritajatim.com/tarif-ojol-naik-15-persen-pakar-transportasi-ingatkan-dampak-negatif/\n"
          ]
        }
      ],
      "source": [
        "try:\n",
        "    file_path = 'data/Link_Berita_Gojek.csv' # Path lokal, bukan path Google Drive\n",
        "    df_urls = pd.read_csv(file_path)\n",
        "\n",
        "    # Ambil list URL dari kolom yang sesuai (misalnya, kolom 'link')\n",
        "    list_of_urls = df_urls['link'].tolist()\n",
        "\n",
        "    print(f\"Berhasil memuat {len(list_of_urls)} URL dari {file_path}\")\n",
        "    print(\"Contoh URL pertama:\", list_of_urls[0])\n",
        "    \n",
        "except FileNotFoundError:\n",
        "    print(f\"Error: File tidak ditemukan di path '{file_path}'. Pastikan file dan folder sudah benar.\")"
      ]
    },
    {
      "cell_type": "markdown",
      "metadata": {
        "id": "58vhBwqxcKhj"
      },
      "source": [
        "Langkah 4: Proses Scraping Artikel Berita\n",
        "Ini adalah inti dari proses scraping. Saya menambahkan konfigurasi user_agent yang terkadang dapat membantu menghindari error 403 Forbidden saat scraping."
      ]
    },
    {
      "cell_type": "code",
      "execution_count": 3,
      "metadata": {
        "colab": {
          "base_uri": "https://localhost:8080/",
          "height": 1000
        },
        "collapsed": true,
        "execution": {
          "iopub.execute_input": "2021-06-23T12:48:34.752314Z",
          "iopub.status.busy": "2021-06-23T12:48:34.751943Z",
          "iopub.status.idle": "2021-06-23T12:48:45.822519Z",
          "shell.execute_reply": "2021-06-23T12:48:45.821313Z",
          "shell.execute_reply.started": "2021-06-23T12:48:34.752282Z"
        },
        "id": "zLCu-nUJrwNV",
        "outputId": "1697ea92-500e-4801-cb1f-77c125c07287",
        "trusted": true
      },
      "outputs": [
        {
          "name": "stdout",
          "output_type": "stream",
          "text": [
            "Memulai proses scraping...\n",
            "Gagal memproses URL: https://diorama.suaramerdeka.com/tech/18315140565/gojek-error-hari-ini-13-mei-2025-begini-cara-mengatasinya. Error: Article `download()` failed with 403 Client Error: Forbidden for url: https://diorama.suaramerdeka.com/tech/18315140565/gojek-error-hari-ini-13-mei-2025-begini-cara-mengatasinya on URL https://diorama.suaramerdeka.com/tech/18315140565/gojek-error-hari-ini-13-mei-2025-begini-cara-mengatasinya\n",
            "Gagal memproses URL: https://diorama.suaramerdeka.com/tech/18315293390/gojek-error-hari-ini-5-juni-2025-cara-perbaiki-masalah-yang-ada. Error: Article `download()` failed with 403 Client Error: Forbidden for url: https://diorama.suaramerdeka.com/tech/18315293390/gojek-error-hari-ini-5-juni-2025-cara-perbaiki-masalah-yang-ada on URL https://diorama.suaramerdeka.com/tech/18315293390/gojek-error-hari-ini-5-juni-2025-cara-perbaiki-masalah-yang-ada\n",
            "Gagal memproses URL: https://lipsus.kompas.com/pameranotomotifnasional2024/read/2024/04/07/123000065/kata-gojek-dan-grab-soal-sulit-dapat-driver-ojol-jelang-lebaran?page=all. Error: Article `download()` failed with 404 Client Error: Not Found for url: https://lipsus.kompas.com/pameranotomotifnasional2024/read/2024/04/07/123000065/kata-gojek-dan-grab-soal-sulit-dapat-driver-ojol-jelang-lebaran?page=all on URL https://lipsus.kompas.com/pameranotomotifnasional2024/read/2024/04/07/123000065/kata-gojek-dan-grab-soal-sulit-dapat-driver-ojol-jelang-lebaran?page=all\n",
            "Gagal memproses URL: https://prosidingfrima.digitechuniversity.ac.id/index.php/prosidingfrima/article/view/395/378. Error: Article `download()` failed with 403 Client Error: Forbidden for url: https://prosidingfrima.digitechuniversity.ac.id/index.php/prosidingfrima/article/view/395/378 on URL https://prosidingfrima.digitechuniversity.ac.id/index.php/prosidingfrima/article/view/395/378\n",
            "Gagal memproses URL: https://rm.id/baca-berita/nasional/281204/ribuan-mitra-ojol-dan-karyawan-gojek-doa-bareng-habibpendeta-ini-harapannya. Error: Article `download()` failed with 403 Client Error: Forbidden for url: https://rm.id/baca-berita/nasional/281204/ribuan-mitra-ojol-dan-karyawan-gojek-doa-bareng-habibpendeta-ini-harapannya on URL https://rm.id/baca-berita/nasional/281204/ribuan-mitra-ojol-dan-karyawan-gojek-doa-bareng-habibpendeta-ini-harapannya\n",
            "Gagal memproses URL: https://tirto.id/survei-gojek-permintaan-turun-akibat-naiknya-tarif-ojek-online-dplq. Error: Article `download()` failed with 403 Client Error: Forbidden for url: https://tirto.id/survei-gojek-permintaan-turun-akibat-naiknya-tarif-ojek-online-dplq on URL https://tirto.id/survei-gojek-permintaan-turun-akibat-naiknya-tarif-ojek-online-dplq\n",
            "Gagal memproses URL: https://www.reddit.com/r/indonesia/comments/1bp2qj7/recent_hidden_change_in_gojek_app/. Error: Article `download()` failed with HTTPSConnectionPool(host='www.reddit.com', port=443): Max retries exceeded with url: /r/indonesia/comments/1bp2qj7/recent_hidden_change_in_gojek_app/ (Caused by ConnectTimeoutError(<urllib3.connection.HTTPSConnection object at 0x000002357F7CB8F0>, 'Connection to www.reddit.com timed out. (connect timeout=30)')) on URL https://www.reddit.com/r/indonesia/comments/1bp2qj7/recent_hidden_change_in_gojek_app/\n",
            "\n",
            "Proses scraping selesai. Berhasil mendapatkan data dari 172 artikel.\n"
          ]
        },
        {
          "data": {
            "text/html": [
              "<div>\n",
              "<style scoped>\n",
              "    .dataframe tbody tr th:only-of-type {\n",
              "        vertical-align: middle;\n",
              "    }\n",
              "\n",
              "    .dataframe tbody tr th {\n",
              "        vertical-align: top;\n",
              "    }\n",
              "\n",
              "    .dataframe thead th {\n",
              "        text-align: right;\n",
              "    }\n",
              "</style>\n",
              "<table border=\"1\" class=\"dataframe\">\n",
              "  <thead>\n",
              "    <tr style=\"text-align: right;\">\n",
              "      <th></th>\n",
              "      <th>title</th>\n",
              "      <th>authors</th>\n",
              "      <th>source</th>\n",
              "      <th>published_date</th>\n",
              "      <th>summary</th>\n",
              "      <th>content</th>\n",
              "      <th>url</th>\n",
              "    </tr>\n",
              "  </thead>\n",
              "  <tbody>\n",
              "    <tr>\n",
              "      <th>0</th>\n",
              "      <td>Tarif Ojol Naik 15 Persen, Pakar Transportasi ...</td>\n",
              "      <td>Rahajeng Kartika</td>\n",
              "      <td>beritajatim.com</td>\n",
              "      <td>2025-07-24 22:49:04+00:00</td>\n",
              "      <td></td>\n",
              "      <td>Yogyakarta (beritajatim.com)– Pemerintah melal...</td>\n",
              "      <td>https://beritajatim.com/tarif-ojol-naik-15-per...</td>\n",
              "    </tr>\n",
              "    <tr>\n",
              "      <th>1</th>\n",
              "      <td>Account Suspended</td>\n",
              "      <td>None</td>\n",
              "      <td>beritanusantara.co</td>\n",
              "      <td>None</td>\n",
              "      <td></td>\n",
              "      <td></td>\n",
              "      <td>https://beritanusantara.co/kenaikan-tarif-ojol...</td>\n",
              "    </tr>\n",
              "    <tr>\n",
              "      <th>2</th>\n",
              "      <td>Penelitian Menyebutkan, 75% Pengguna Ojol Tola...</td>\n",
              "      <td>Tim Sindonews</td>\n",
              "      <td>daerah.sindonews.com</td>\n",
              "      <td>None</td>\n",
              "      <td></td>\n",
              "      <td>Penelitian Menyebutkan, 75% Pengguna Ojol Tola...</td>\n",
              "      <td>https://daerah.sindonews.com/artikel/makassar/...</td>\n",
              "    </tr>\n",
              "    <tr>\n",
              "      <th>3</th>\n",
              "      <td>Gojek Siap Kaji Perubahan Tarif Ojek Online Me...</td>\n",
              "      <td>Harian Jogja Digital Media</td>\n",
              "      <td>ekbis.harianjogja.com</td>\n",
              "      <td>2025-07-02 00:00:00</td>\n",
              "      <td></td>\n",
              "      <td>Gojek Siap Kaji Perubahan Tarif Ojek Online Me...</td>\n",
              "      <td>https://ekbis.harianjogja.com/read/2025/07/02/...</td>\n",
              "    </tr>\n",
              "    <tr>\n",
              "      <th>4</th>\n",
              "      <td>Kenaikan Tarif Ojol Sarat Risiko, Pemerintah P...</td>\n",
              "      <td>Rio Sandy Pradana, Penulis, Editor</td>\n",
              "      <td>ekonomi.bisnis.com</td>\n",
              "      <td>2025-07-01 15:07:28+07:00</td>\n",
              "      <td></td>\n",
              "      <td>RISED menilai penerapan kenaikan tarif ojol di...</td>\n",
              "      <td>https://ekonomi.bisnis.com/read/20250701/98/18...</td>\n",
              "    </tr>\n",
              "  </tbody>\n",
              "</table>\n",
              "</div>"
            ],
            "text/plain": [
              "                                               title  \\\n",
              "0  Tarif Ojol Naik 15 Persen, Pakar Transportasi ...   \n",
              "1                                  Account Suspended   \n",
              "2  Penelitian Menyebutkan, 75% Pengguna Ojol Tola...   \n",
              "3  Gojek Siap Kaji Perubahan Tarif Ojek Online Me...   \n",
              "4  Kenaikan Tarif Ojol Sarat Risiko, Pemerintah P...   \n",
              "\n",
              "                              authors                 source  \\\n",
              "0                    Rahajeng Kartika        beritajatim.com   \n",
              "1                                None     beritanusantara.co   \n",
              "2                       Tim Sindonews   daerah.sindonews.com   \n",
              "3          Harian Jogja Digital Media  ekbis.harianjogja.com   \n",
              "4  Rio Sandy Pradana, Penulis, Editor     ekonomi.bisnis.com   \n",
              "\n",
              "              published_date summary  \\\n",
              "0  2025-07-24 22:49:04+00:00           \n",
              "1                       None           \n",
              "2                       None           \n",
              "3        2025-07-02 00:00:00           \n",
              "4  2025-07-01 15:07:28+07:00           \n",
              "\n",
              "                                             content  \\\n",
              "0  Yogyakarta (beritajatim.com)– Pemerintah melal...   \n",
              "1                                                      \n",
              "2  Penelitian Menyebutkan, 75% Pengguna Ojol Tola...   \n",
              "3  Gojek Siap Kaji Perubahan Tarif Ojek Online Me...   \n",
              "4  RISED menilai penerapan kenaikan tarif ojol di...   \n",
              "\n",
              "                                                 url  \n",
              "0  https://beritajatim.com/tarif-ojol-naik-15-per...  \n",
              "1  https://beritanusantara.co/kenaikan-tarif-ojol...  \n",
              "2  https://daerah.sindonews.com/artikel/makassar/...  \n",
              "3  https://ekbis.harianjogja.com/read/2025/07/02/...  \n",
              "4  https://ekonomi.bisnis.com/read/20250701/98/18...  "
            ]
          },
          "execution_count": 3,
          "metadata": {},
          "output_type": "execute_result"
        }
      ],
      "source": [
        "# Konfigurasi untuk newspaper3k agar terlihat seperti browser biasa\n",
        "config = Config()\n",
        "config.browser_user_agent = 'Mozilla/5.0 (Windows NT 10.0; Win64; x64) AppleWebKit/537.36 (KHTML, like Gecko) Chrome/118.0.0.0 Safari/537.36'\n",
        "config.request_timeout = 30\n",
        "\n",
        "scraped_articles = []\n",
        "\n",
        "print(\"Memulai proses scraping...\")\n",
        "# Loop melalui setiap URL untuk mengambil datanya\n",
        "for url in list_of_urls:\n",
        "    try:\n",
        "        article = newspaper.Article(url=url, language='id', config=config)\n",
        "        article.download()\n",
        "        article.parse()\n",
        "\n",
        "        # Ekstrak nama domain sebagai sumber berita\n",
        "        source = urlparse(url).netloc.replace('www.', '')\n",
        "\n",
        "        # Kumpulkan detail artikel dalam sebuah dictionary\n",
        "        article_detail = {\n",
        "            \"title\": article.title,\n",
        "            \"authors\": \", \".join(article.authors) if article.authors else None,\n",
        "            \"source\": source,\n",
        "            \"published_date\": article.publish_date,\n",
        "            \"summary\": article.summary,\n",
        "            \"content\": article.text,\n",
        "            \"url\": url,\n",
        "        }\n",
        "        scraped_articles.append(article_detail)\n",
        "\n",
        "    except newspaper.ArticleException as e:\n",
        "        print(f\"Gagal memproses URL: {url}. Error: {e}\")\n",
        "    except Exception as e:\n",
        "        print(f\"Terjadi error tak terduga untuk URL {url}: {e}\")\n",
        "\n",
        "print(f\"\\nProses scraping selesai. Berhasil mendapatkan data dari {len(scraped_articles)} artikel.\")\n",
        "\n",
        "# Ubah list of dictionaries menjadi DataFrame\n",
        "df_scraped = pd.DataFrame(scraped_articles)\n",
        "df_scraped.head()"
      ]
    },
    {
      "cell_type": "markdown",
      "metadata": {},
      "source": [
        "Langkah 5: Pembersihan Data dan Penambahan Kolom 'Tag'\n",
        "Setelah scraping, kita gabungkan kembali dengan data 'tag' dari file asli dan membersihkan data yang tanggal publikasinya kosong."
      ]
    },
    {
      "cell_type": "code",
      "execution_count": 5,
      "metadata": {},
      "outputs": [
        {
          "name": "stdout",
          "output_type": "stream",
          "text": [
            "Jumlah baris sebelum pembersihan: 172\n",
            "Jumlah baris setelah menghapus tanggal kosong: 103\n",
            "Jumlah baris yang dihapus: 69\n"
          ]
        },
        {
          "data": {
            "text/html": [
              "<div>\n",
              "<style scoped>\n",
              "    .dataframe tbody tr th:only-of-type {\n",
              "        vertical-align: middle;\n",
              "    }\n",
              "\n",
              "    .dataframe tbody tr th {\n",
              "        vertical-align: top;\n",
              "    }\n",
              "\n",
              "    .dataframe thead th {\n",
              "        text-align: right;\n",
              "    }\n",
              "</style>\n",
              "<table border=\"1\" class=\"dataframe\">\n",
              "  <thead>\n",
              "    <tr style=\"text-align: right;\">\n",
              "      <th></th>\n",
              "      <th>title</th>\n",
              "      <th>authors</th>\n",
              "      <th>source</th>\n",
              "      <th>published_date</th>\n",
              "      <th>summary</th>\n",
              "      <th>content</th>\n",
              "      <th>url</th>\n",
              "      <th>tag</th>\n",
              "    </tr>\n",
              "  </thead>\n",
              "  <tbody>\n",
              "    <tr>\n",
              "      <th>0</th>\n",
              "      <td>Tarif Ojol Naik 15 Persen, Pakar Transportasi ...</td>\n",
              "      <td>Rahajeng Kartika</td>\n",
              "      <td>beritajatim.com</td>\n",
              "      <td>2025-07-24 22:49:04+00:00</td>\n",
              "      <td></td>\n",
              "      <td>Yogyakarta (beritajatim.com)– Pemerintah melal...</td>\n",
              "      <td>https://beritajatim.com/tarif-ojol-naik-15-per...</td>\n",
              "      <td>Local News</td>\n",
              "    </tr>\n",
              "    <tr>\n",
              "      <th>3</th>\n",
              "      <td>Gojek Siap Kaji Perubahan Tarif Ojek Online Me...</td>\n",
              "      <td>Harian Jogja Digital Media</td>\n",
              "      <td>ekbis.harianjogja.com</td>\n",
              "      <td>2025-07-02 00:00:00</td>\n",
              "      <td></td>\n",
              "      <td>Gojek Siap Kaji Perubahan Tarif Ojek Online Me...</td>\n",
              "      <td>https://ekbis.harianjogja.com/read/2025/07/02/...</td>\n",
              "      <td>Local News</td>\n",
              "    </tr>\n",
              "    <tr>\n",
              "      <th>4</th>\n",
              "      <td>Kenaikan Tarif Ojol Sarat Risiko, Pemerintah P...</td>\n",
              "      <td>Rio Sandy Pradana, Penulis, Editor</td>\n",
              "      <td>ekonomi.bisnis.com</td>\n",
              "      <td>2025-07-01 15:07:28+07:00</td>\n",
              "      <td></td>\n",
              "      <td>RISED menilai penerapan kenaikan tarif ojol di...</td>\n",
              "      <td>https://ekonomi.bisnis.com/read/20250701/98/18...</td>\n",
              "      <td>Local News</td>\n",
              "    </tr>\n",
              "    <tr>\n",
              "      <th>5</th>\n",
              "      <td>Gojek Pastikan Ikuti Kebijakan Kenaikan Tarif ...</td>\n",
              "      <td>Asfian Nur Muhammad, Oleh</td>\n",
              "      <td>ekonomi.rakyat.news</td>\n",
              "      <td>2025-07-02 10:06:15+08:00</td>\n",
              "      <td></td>\n",
              "      <td>RAKYAT NEWS, JAKARTA – Induk perusahaan Gojek,...</td>\n",
              "      <td>https://ekonomi.rakyat.news/read/146273/gojek-...</td>\n",
              "      <td>Economic</td>\n",
              "    </tr>\n",
              "    <tr>\n",
              "      <th>6</th>\n",
              "      <td>GoJek, Grab Agree to Increase Online Ojek Tariff</td>\n",
              "      <td>None</td>\n",
              "      <td>en.tempo.co</td>\n",
              "      <td>1970-01-01 07:00:00+07:00</td>\n",
              "      <td></td>\n",
              "      <td>TEMPO.CO, Jakarta - Transportation Ministry`s ...</td>\n",
              "      <td>https://en.tempo.co/read/917359/gojek-grab-agr...</td>\n",
              "      <td>Economic</td>\n",
              "    </tr>\n",
              "  </tbody>\n",
              "</table>\n",
              "</div>"
            ],
            "text/plain": [
              "                                               title  \\\n",
              "0  Tarif Ojol Naik 15 Persen, Pakar Transportasi ...   \n",
              "3  Gojek Siap Kaji Perubahan Tarif Ojek Online Me...   \n",
              "4  Kenaikan Tarif Ojol Sarat Risiko, Pemerintah P...   \n",
              "5  Gojek Pastikan Ikuti Kebijakan Kenaikan Tarif ...   \n",
              "6   GoJek, Grab Agree to Increase Online Ojek Tariff   \n",
              "\n",
              "                              authors                 source  \\\n",
              "0                    Rahajeng Kartika        beritajatim.com   \n",
              "3          Harian Jogja Digital Media  ekbis.harianjogja.com   \n",
              "4  Rio Sandy Pradana, Penulis, Editor     ekonomi.bisnis.com   \n",
              "5           Asfian Nur Muhammad, Oleh    ekonomi.rakyat.news   \n",
              "6                                None            en.tempo.co   \n",
              "\n",
              "              published_date summary  \\\n",
              "0  2025-07-24 22:49:04+00:00           \n",
              "3        2025-07-02 00:00:00           \n",
              "4  2025-07-01 15:07:28+07:00           \n",
              "5  2025-07-02 10:06:15+08:00           \n",
              "6  1970-01-01 07:00:00+07:00           \n",
              "\n",
              "                                             content  \\\n",
              "0  Yogyakarta (beritajatim.com)– Pemerintah melal...   \n",
              "3  Gojek Siap Kaji Perubahan Tarif Ojek Online Me...   \n",
              "4  RISED menilai penerapan kenaikan tarif ojol di...   \n",
              "5  RAKYAT NEWS, JAKARTA – Induk perusahaan Gojek,...   \n",
              "6  TEMPO.CO, Jakarta - Transportation Ministry`s ...   \n",
              "\n",
              "                                                 url         tag  \n",
              "0  https://beritajatim.com/tarif-ojol-naik-15-per...  Local News  \n",
              "3  https://ekbis.harianjogja.com/read/2025/07/02/...  Local News  \n",
              "4  https://ekonomi.bisnis.com/read/20250701/98/18...  Local News  \n",
              "5  https://ekonomi.rakyat.news/read/146273/gojek-...    Economic  \n",
              "6  https://en.tempo.co/read/917359/gojek-grab-agr...    Economic  "
            ]
          },
          "execution_count": 5,
          "metadata": {},
          "output_type": "execute_result"
        }
      ],
      "source": [
        "# Gabungkan kolom 'Label Category' dari DataFrame asli ke DataFrame hasil scraping\n",
        "# Ini mengasumsikan urutan barisnya masih sama\n",
        "if not df_scraped.empty:\n",
        "    df_scraped['tag'] = df_urls['Label Category']\n",
        "\n",
        "    # Hitung jumlah data sebelum dibersihkan\n",
        "    rows_before = len(df_scraped)\n",
        "    print(f\"Jumlah baris sebelum pembersihan: {rows_before}\")\n",
        "\n",
        "    # Hapus baris yang kolom 'published_date'-nya kosong (NaT)\n",
        "    df_final = df_scraped.dropna(subset=['published_date'])\n",
        "\n",
        "    # Hitung jumlah data setelah dibersihkan\n",
        "    rows_after = len(df_final)\n",
        "    print(f\"Jumlah baris setelah menghapus tanggal kosong: {rows_after}\")\n",
        "    print(f\"Jumlah baris yang dihapus: {rows_before - rows_after}\")\n",
        "else:\n",
        "    print(\"Tidak ada data yang berhasil di-scrape, DataFrame kosong.\")\n",
        "    df_final = pd.DataFrame() # Buat DataFrame kosong jika tidak ada hasil\n",
        "\n",
        "df_final.head()"
      ]
    },
    {
      "cell_type": "markdown",
      "metadata": {},
      "source": [
        "Langkah 6: Simpan Hasil ke File CSV Lokal"
      ]
    },
    {
      "cell_type": "code",
      "execution_count": 6,
      "metadata": {},
      "outputs": [
        {
          "name": "stdout",
          "output_type": "stream",
          "text": [
            "Data akhir berhasil disimpan di: data/Hasil_Scraping_Gojek.csv\n"
          ]
        }
      ],
      "source": [
        "# Simpan hasil akhir ke file CSV baru di folder 'data'\n",
        "if not df_final.empty:\n",
        "    output_path = 'data/Hasil_Scraping_Gojek.csv'\n",
        "    df_final.to_csv(output_path, index=False)\n",
        "    print(f\"Data akhir berhasil disimpan di: {output_path}\")\n",
        "else:\n",
        "    print(\"Tidak ada data untuk disimpan.\")"
      ]
    }
  ],
  "metadata": {
    "colab": {
      "include_colab_link": true,
      "provenance": []
    },
    "kernelspec": {
      "display_name": "Python 3",
      "language": "python",
      "name": "python3"
    },
    "language_info": {
      "codemirror_mode": {
        "name": "ipython",
        "version": 3
      },
      "file_extension": ".py",
      "mimetype": "text/x-python",
      "name": "python",
      "nbconvert_exporter": "python",
      "pygments_lexer": "ipython3",
      "version": "3.12.10"
    }
  },
  "nbformat": 4,
  "nbformat_minor": 0
}
