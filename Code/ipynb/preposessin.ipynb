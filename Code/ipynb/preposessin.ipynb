{
 "cells": [
  {
   "cell_type": "code",
   "execution_count": 1,
   "id": "b3fcf265",
   "metadata": {},
   "outputs": [
    {
     "name": "stderr",
     "output_type": "stream",
     "text": [
      "[nltk_data] Downloading package punkt to\n",
      "[nltk_data]     C:\\Users\\fajri\\AppData\\Roaming\\nltk_data...\n",
      "[nltk_data]   Package punkt is already up-to-date!\n",
      "[nltk_data] Downloading package punkt_tab to\n",
      "[nltk_data]     C:\\Users\\fajri\\AppData\\Roaming\\nltk_data...\n",
      "[nltk_data]   Package punkt_tab is already up-to-date!\n",
      "[nltk_data] Downloading package stopwords to\n",
      "[nltk_data]     C:\\Users\\fajri\\AppData\\Roaming\\nltk_data...\n",
      "[nltk_data]   Package stopwords is already up-to-date!\n"
     ]
    },
    {
     "name": "stdout",
     "output_type": "stream",
     "text": [
      "Jumlah artikel: 158\n"
     ]
    },
    {
     "data": {
      "text/html": [
       "<div>\n",
       "<style scoped>\n",
       "    .dataframe tbody tr th:only-of-type {\n",
       "        vertical-align: middle;\n",
       "    }\n",
       "\n",
       "    .dataframe tbody tr th {\n",
       "        vertical-align: top;\n",
       "    }\n",
       "\n",
       "    .dataframe thead th {\n",
       "        text-align: right;\n",
       "    }\n",
       "</style>\n",
       "<table border=\"1\" class=\"dataframe\">\n",
       "  <thead>\n",
       "    <tr style=\"text-align: right;\">\n",
       "      <th></th>\n",
       "      <th>title</th>\n",
       "      <th>authors</th>\n",
       "      <th>source</th>\n",
       "      <th>published_date</th>\n",
       "      <th>summary</th>\n",
       "      <th>article_text</th>\n",
       "      <th>url</th>\n",
       "      <th>tag</th>\n",
       "      <th>tanggal</th>\n",
       "    </tr>\n",
       "  </thead>\n",
       "  <tbody>\n",
       "    <tr>\n",
       "      <th>0</th>\n",
       "      <td>Tarif Ojol Naik 15 Persen, Pakar Transportasi ...</td>\n",
       "      <td>Rahajeng Kartika</td>\n",
       "      <td>beritajatim.com</td>\n",
       "      <td>2025-07-24 22:49:04+00:00</td>\n",
       "      <td>NaN</td>\n",
       "      <td>Yogyakarta (beritajatim.com)– Pemerintah melal...</td>\n",
       "      <td>https://beritajatim.com/tarif-ojol-naik-15-per...</td>\n",
       "      <td>Local News</td>\n",
       "      <td>02/07/2025</td>\n",
       "    </tr>\n",
       "    <tr>\n",
       "      <th>1</th>\n",
       "      <td>Kenaikan Tarif Ojol 8–15 Persen Ditolak, Aplik...</td>\n",
       "      <td>NaN</td>\n",
       "      <td>beritanusantara.co</td>\n",
       "      <td>2025-07-04 08:59:37+00:00</td>\n",
       "      <td>NaN</td>\n",
       "      <td>Beritanusantara.co, Jakarta – Rencana pemerint...</td>\n",
       "      <td>https://beritanusantara.co/kenaikan-tarif-ojol...</td>\n",
       "      <td>Economic</td>\n",
       "      <td>04/07/2025</td>\n",
       "    </tr>\n",
       "    <tr>\n",
       "      <th>2</th>\n",
       "      <td>Penelitian Menyebutkan, 75% Pengguna Ojol Tola...</td>\n",
       "      <td>Tim Sindonews</td>\n",
       "      <td>daerah.sindonews.com</td>\n",
       "      <td>NaN</td>\n",
       "      <td>NaN</td>\n",
       "      <td>Penelitian Menyebutkan, 75% Pengguna Ojol Tola...</td>\n",
       "      <td>https://daerah.sindonews.com/artikel/makassar/...</td>\n",
       "      <td>Academic</td>\n",
       "      <td>02/03/2025</td>\n",
       "    </tr>\n",
       "    <tr>\n",
       "      <th>3</th>\n",
       "      <td>Gojek Siap Kaji Perubahan Tarif Ojek Online Me...</td>\n",
       "      <td>Harian Jogja Digital Media</td>\n",
       "      <td>ekbis.harianjogja.com</td>\n",
       "      <td>2025-07-02 00:00:00</td>\n",
       "      <td>NaN</td>\n",
       "      <td>Gojek Siap Kaji Perubahan Tarif Ojek Online Me...</td>\n",
       "      <td>https://ekbis.harianjogja.com/read/2025/07/02/...</td>\n",
       "      <td>Economic</td>\n",
       "      <td>02/07/2025</td>\n",
       "    </tr>\n",
       "    <tr>\n",
       "      <th>4</th>\n",
       "      <td>Kenaikan Tarif Ojol Sarat Risiko, Pemerintah P...</td>\n",
       "      <td>Rio Sandy Pradana, Penulis, Editor</td>\n",
       "      <td>ekonomi.bisnis.com</td>\n",
       "      <td>2025-07-01 15:07:28+07:00</td>\n",
       "      <td>NaN</td>\n",
       "      <td>RISED menilai penerapan kenaikan tarif ojol di...</td>\n",
       "      <td>https://ekonomi.bisnis.com/read/20250701/98/18...</td>\n",
       "      <td>Economic</td>\n",
       "      <td>01/07/2025</td>\n",
       "    </tr>\n",
       "  </tbody>\n",
       "</table>\n",
       "</div>"
      ],
      "text/plain": [
       "                                               title  \\\n",
       "0  Tarif Ojol Naik 15 Persen, Pakar Transportasi ...   \n",
       "1  Kenaikan Tarif Ojol 8–15 Persen Ditolak, Aplik...   \n",
       "2  Penelitian Menyebutkan, 75% Pengguna Ojol Tola...   \n",
       "3  Gojek Siap Kaji Perubahan Tarif Ojek Online Me...   \n",
       "4  Kenaikan Tarif Ojol Sarat Risiko, Pemerintah P...   \n",
       "\n",
       "                              authors                 source  \\\n",
       "0                    Rahajeng Kartika        beritajatim.com   \n",
       "1                                 NaN     beritanusantara.co   \n",
       "2                       Tim Sindonews   daerah.sindonews.com   \n",
       "3          Harian Jogja Digital Media  ekbis.harianjogja.com   \n",
       "4  Rio Sandy Pradana, Penulis, Editor     ekonomi.bisnis.com   \n",
       "\n",
       "              published_date  summary  \\\n",
       "0  2025-07-24 22:49:04+00:00      NaN   \n",
       "1  2025-07-04 08:59:37+00:00      NaN   \n",
       "2                        NaN      NaN   \n",
       "3        2025-07-02 00:00:00      NaN   \n",
       "4  2025-07-01 15:07:28+07:00      NaN   \n",
       "\n",
       "                                        article_text  \\\n",
       "0  Yogyakarta (beritajatim.com)– Pemerintah melal...   \n",
       "1  Beritanusantara.co, Jakarta – Rencana pemerint...   \n",
       "2  Penelitian Menyebutkan, 75% Pengguna Ojol Tola...   \n",
       "3  Gojek Siap Kaji Perubahan Tarif Ojek Online Me...   \n",
       "4  RISED menilai penerapan kenaikan tarif ojol di...   \n",
       "\n",
       "                                                 url         tag     tanggal  \n",
       "0  https://beritajatim.com/tarif-ojol-naik-15-per...  Local News  02/07/2025  \n",
       "1  https://beritanusantara.co/kenaikan-tarif-ojol...    Economic  04/07/2025  \n",
       "2  https://daerah.sindonews.com/artikel/makassar/...    Academic  02/03/2025  \n",
       "3  https://ekbis.harianjogja.com/read/2025/07/02/...    Economic  02/07/2025  \n",
       "4  https://ekonomi.bisnis.com/read/20250701/98/18...    Economic  01/07/2025  "
      ]
     },
     "execution_count": 1,
     "metadata": {},
     "output_type": "execute_result"
    }
   ],
   "source": [
    "\n",
    "import pandas as pd\n",
    "import re\n",
    "import nltk\n",
    "from nltk.tokenize import word_tokenize\n",
    "from nltk.corpus import stopwords\n",
    "\n",
    "# Pastikan resource NLTK terunduh\n",
    "nltk.download('punkt')\n",
    "nltk.download('punkt_tab')\n",
    "nltk.download('stopwords')\n",
    "\n",
    "# Baca dataset\n",
    "df_article = pd.read_csv(\"../data/Hasil_Scraping_Gojek.csv\")\n",
    "\n",
    "# Gunakan hanya kolom 'Content'\n",
    "df_article = df_article.rename(columns={'content': 'article_text'})\n",
    "df_article = df_article.dropna(subset=['article_text']).reset_index(drop=True)\n",
    "\n",
    "print(\"Jumlah artikel:\", len(df_article))\n",
    "df_article.head()\n"
   ]
  },
  {
   "cell_type": "code",
   "execution_count": 2,
   "id": "4a82edf4",
   "metadata": {},
   "outputs": [
    {
     "name": "stdout",
     "output_type": "stream",
     "text": [
      "🧹 Perbandingan Sebelum & Sesudah Cleaning:\n",
      "                                        article_text  \\\n",
      "0  Yogyakarta (beritajatim.com)– Pemerintah melal...   \n",
      "1  Beritanusantara.co, Jakarta – Rencana pemerint...   \n",
      "2  Penelitian Menyebutkan, 75% Pengguna Ojol Tola...   \n",
      "3  Gojek Siap Kaji Perubahan Tarif Ojek Online Me...   \n",
      "4  RISED menilai penerapan kenaikan tarif ojol di...   \n",
      "\n",
      "                                        cleaned_text  \n",
      "0  yogyakarta beritajatim com pemerintah melalui ...  \n",
      "1  beritanusantara co jakarta rencana pemerintah ...  \n",
      "2  penelitian menyebutkan pengguna ojol tolak ken...  \n",
      "3  gojek siap kaji perubahan tarif ojek online me...  \n",
      "4  rised menilai penerapan kenaikan tarif ojol di...  \n"
     ]
    }
   ],
   "source": [
    "\n",
    "def clean_text(text):\n",
    "    if not isinstance(text, str):\n",
    "        return \"\"\n",
    "    text = text.lower()                                 # lowercase\n",
    "    text = re.sub(r'<[^>]*>', ' ', text)                # hapus HTML\n",
    "    text = re.sub(r'https?://\\S+|www\\.\\S+', ' ', text)  # hapus URL\n",
    "    text = re.sub(r'[^a-zA-Z\\s]', ' ', text)            # hapus angka & simbol\n",
    "    text = re.sub(r'\\s+', ' ', text).strip()            # hapus spasi berlebih\n",
    "    return text\n",
    "\n",
    "df_article['cleaned_text'] = df_article['article_text'].apply(clean_text)\n",
    "\n",
    "print(\"🧹 Perbandingan Sebelum & Sesudah Cleaning:\")\n",
    "print(df_article[['article_text', 'cleaned_text']].head())\n"
   ]
  },
  {
   "cell_type": "code",
   "execution_count": 3,
   "id": "aa6c8252",
   "metadata": {},
   "outputs": [
    {
     "name": "stderr",
     "output_type": "stream",
     "text": [
      "\n",
      "[notice] A new release of pip is available: 25.0.1 -> 25.2\n",
      "[notice] To update, run: python.exe -m pip install --upgrade pip\n"
     ]
    },
    {
     "name": "stdout",
     "output_type": "stream",
     "text": [
      "⚠️ Terjemahan gagal: ('Connection aborted.', RemoteDisconnected('Remote end closed connection without response'))\n",
      "⚠️ Terjemahan gagal: ('Connection aborted.', RemoteDisconnected('Remote end closed connection without response'))\n",
      "✅ Analisis sentimen selesai!\n",
      "                                        cleaned_text  polarity sentiment\n",
      "0  yogyakarta beritajatim com pemerintah melalui ...  0.000000   neutral\n",
      "1  beritanusantara co jakarta rencana pemerintah ...  0.025484   neutral\n",
      "2  penelitian menyebutkan pengguna ojol tolak ken...  0.135888  positive\n",
      "3  gojek siap kaji perubahan tarif ojek online me...  0.074596  positive\n",
      "4  rised menilai penerapan kenaikan tarif ojol di...  0.049615   neutral\n"
     ]
    },
    {
     "data": {
      "image/png": "[encoded data removed]",
      "text/plain": [
       "<Figure size 600x400 with 1 Axes>"
      ]
     },
     "metadata": {},
     "output_type": "display_data"
    }
   ],
   "source": [
    "# Install package yang diperlukan\n",
    "!pip install textblob deep-translator --quiet\n",
    "\n",
    "# Import library\n",
    "from textblob import TextBlob\n",
    "from deep_translator import GoogleTranslator\n",
    "import numpy as np\n",
    "import pandas as pd\n",
    "import time\n",
    "\n",
    "# === FUNGSI TRANSLASI (aman & stabil) ===\n",
    "def translate_text(text):\n",
    "    try:\n",
    "        return GoogleTranslator(source='auto', target='en').translate(text)\n",
    "    except Exception as e:\n",
    "        print(\"⚠️ Terjemahan gagal:\", e)\n",
    "        return text\n",
    "\n",
    "# === FUNGSI PEMOTONG TEKS PANJANG ===\n",
    "def split_text_into_batches(text, max_words=500):\n",
    "    if not isinstance(text, str):\n",
    "        return []\n",
    "    words = text.split()\n",
    "    return [' '.join(words[i:i + max_words]) for i in range(0, len(words), max_words)]\n",
    "\n",
    "# === FUNGSI HITUNG SENTIMEN ===\n",
    "def get_sentiment_polarity_long(text):\n",
    "    if not isinstance(text, str) or text.strip() == \"\":\n",
    "        return 0.0\n",
    "\n",
    "    batches = split_text_into_batches(text)\n",
    "    polarities = []\n",
    "\n",
    "    for batch in batches:\n",
    "        try:\n",
    "            eng_text = translate_text(batch)\n",
    "            blob = TextBlob(eng_text)\n",
    "            scores = [s.sentiment.polarity for s in blob.sentences]\n",
    "            if scores:\n",
    "                polarities.append(np.mean(scores))\n",
    "            time.sleep(0.3)  # jeda agar tidak kena limit API\n",
    "        except Exception as e:\n",
    "            print(\"⚠️ Gagal proses batch:\", e)\n",
    "            continue\n",
    "\n",
    "    return np.mean(polarities) if polarities else 0.0\n",
    "\n",
    "# === KLASIFIKASI SENTIMEN ===\n",
    "def classify_sentiment(polarity, threshold=0.05):\n",
    "    if polarity > threshold:\n",
    "        return 'positive'\n",
    "    elif polarity < -threshold:\n",
    "        return 'negative'\n",
    "    else:\n",
    "        return 'neutral'\n",
    "\n",
    "# === CONTOH DATA (hapus bagian ini kalau sudah punya df_article) ===\n",
    "# df_article = pd.DataFrame({\n",
    "#     'cleaned_text': [\n",
    "#         'Gojek memberikan pelayanan yang luar biasa!',\n",
    "#         'Saya kecewa dengan layanan aplikasi ini.',\n",
    "#         'Aplikasi ini cukup membantu dalam kehidupan sehari-hari.'\n",
    "#     ]\n",
    "# })\n",
    "\n",
    "# === JALANKAN ANALISIS SENTIMEN ===\n",
    "df_article = df_article.dropna(subset=['cleaned_text'])\n",
    "df_article['polarity'] = df_article['cleaned_text'].apply(get_sentiment_polarity_long)\n",
    "df_article['sentiment'] = df_article['polarity'].apply(classify_sentiment)\n",
    "\n",
    "print(\"✅ Analisis sentimen selesai!\")\n",
    "print(df_article[['cleaned_text', 'polarity', 'sentiment']].head(5))\n",
    "\n",
    "# === OPSIONAL: VISUALISASI HASILNYA ===\n",
    "import matplotlib.pyplot as plt\n",
    "\n",
    "plt.figure(figsize=(6,4))\n",
    "df_article['sentiment'].value_counts().plot(kind='bar', color=['green','red','gray'])\n",
    "plt.title('Distribusi Sentimen Artikel')\n",
    "plt.xlabel('Sentiment')\n",
    "plt.ylabel('Jumlah Artikel')\n",
    "plt.xticks(rotation=0)\n",
    "plt.show()\n"
   ]
  },
  {
   "cell_type": "markdown",
   "id": "41f9692a",
   "metadata": {},
   "source": [
    "Tokenization & Stopwords Removal"
   ]
  },
  {
   "cell_type": "code",
   "execution_count": 25,
   "id": "966aed2b",
   "metadata": {},
   "outputs": [
    {
     "name": "stderr",
     "output_type": "stream",
     "text": [
      "\n",
      "[notice] A new release of pip is available: 25.0.1 -> 25.2\n",
      "[notice] To update, run: python.exe -m pip install --upgrade pip\n"
     ]
    },
    {
     "name": "stdout",
     "output_type": "stream",
     "text": [
      "🔤 Contoh hasil tokenisasi (custom stopwords aktif):\n",
      "                                        cleaned_text  \\\n",
      "0  yogyakarta beritajatim com pemerintah melalui ...   \n",
      "1  beritanusantara co jakarta rencana pemerintah ...   \n",
      "2  penelitian menyebutkan pengguna ojol tolak ken...   \n",
      "3  gojek siap kaji perubahan tarif ojek online me...   \n",
      "4  rised menilai penerapan kenaikan tarif ojol di...   \n",
      "\n",
      "                                              tokens  \n",
      "0  [yogyakarta, pemerintah, kementerian, perhubun...  \n",
      "1  [rencana, pemerintah, menaikkan, tarif, dasar,...  \n",
      "2  [penelitian, pengguna, ojol, tolak, kenaikan, ...  \n",
      "3  [kaji, perubahan, tarif, ojek, online, mengiku...  \n",
      "4  [rised, menilai, penerapan, kenaikan, tarif, o...  \n"
     ]
    },
    {
     "name": "stderr",
     "output_type": "stream",
     "text": [
      "[nltk_data] Downloading package stopwords to\n",
      "[nltk_data]     C:\\Users\\fajri\\AppData\\Roaming\\nltk_data...\n",
      "[nltk_data]   Package stopwords is already up-to-date!\n",
      "[nltk_data] Downloading package punkt_tab to\n",
      "[nltk_data]     C:\\Users\\fajri\\AppData\\Roaming\\nltk_data...\n",
      "[nltk_data]   Package punkt_tab is already up-to-date!\n"
     ]
    }
   ],
   "source": [
    "# ============================================================\n",
    "# 🧹 STOPWORD & TOKENISASI DENGAN CUSTOM FILTER\n",
    "# ============================================================\n",
    "\n",
    "# Install NLTK kalau belum ada\n",
    "!pip install nltk --quiet\n",
    "\n",
    "import nltk\n",
    "from nltk.corpus import stopwords\n",
    "from nltk.tokenize import word_tokenize\n",
    "import re\n",
    "\n",
    "# Unduh resource jika belum\n",
    "nltk.download('stopwords')\n",
    "nltk.download('punkt_tab')\n",
    "\n",
    "# 🔹 Stopword Bahasa Indonesia dan Inggris\n",
    "stop_id = set(stopwords.words('indonesian'))\n",
    "stop_en = set(stopwords.words('english'))\n",
    "\n",
    "# 🔹 Custom stopword (nama media, kata umum, proper noun, dll)\n",
    "custom_stopwords = {\n",
    "    'berita','com','jek','gojek','co','id','https','www','net','cnn','detik','tempo',\n",
    "    'tribun','antara','liputan','kompas','sindo','republika','merdeka','indozone',\n",
    "    'jawapos','beritajatim','beritanusantara','menurut','ujar','kata','tutur','ungkap',\n",
    "    'bahwa','saat','akan','juga','masih','telah','agar','dalam','tersebut','terkait',\n",
    "    'hingga','setelah','sebagai','pada','oleh','ini','itu','untuk','dengan','para',\n",
    "    'karena','yakni','heru','budi','jokowi','jakarta','indonesia','go', 'grab','pt'\n",
    "}\n",
    "\n",
    "# 🔹 Gabungkan semua stopword\n",
    "stop_words = stop_id.union(stop_en).union(custom_stopwords)\n",
    "\n",
    "# 🔹 Fungsi bersih + tokenisasi\n",
    "def tokenize_and_remove_stopwords(text):\n",
    "    # Hapus karakter non-huruf\n",
    "    text = re.sub(r'[^a-zA-Z\\s]', ' ', str(text))\n",
    "    # Tokenisasi\n",
    "    tokens = word_tokenize(text.lower())\n",
    "    # Filter stopword + minimal panjang kata 3\n",
    "    filtered = [w for w in tokens if w not in stop_words and len(w) > 2]\n",
    "    return filtered\n",
    "\n",
    "# 🔹 Terapkan ke dataframe\n",
    "df_article['tokens'] = df_article['cleaned_text'].astype(str).apply(tokenize_and_remove_stopwords)\n",
    "\n",
    "# 🔹 Cek hasil\n",
    "print(\"🔤 Contoh hasil tokenisasi (custom stopwords aktif):\")\n",
    "print(df_article[['cleaned_text', 'tokens']].head())\n"
   ]
  },
  {
   "cell_type": "code",
   "execution_count": 26,
   "id": "e1f546cb",
   "metadata": {},
   "outputs": [
    {
     "name": "stderr",
     "output_type": "stream",
     "text": [
      "\n",
      "[notice] A new release of pip is available: 25.0.1 -> 25.2\n",
      "[notice] To update, run: python.exe -m pip install --upgrade pip\n"
     ]
    },
    {
     "name": "stdout",
     "output_type": "stream",
     "text": [
      "🪶 Contoh hasil stemming (dengan kata penting dipertahankan):\n"
     ]
    },
    {
     "data": {
      "text/html": [
       "<div>\n",
       "<style scoped>\n",
       "    .dataframe tbody tr th:only-of-type {\n",
       "        vertical-align: middle;\n",
       "    }\n",
       "\n",
       "    .dataframe tbody tr th {\n",
       "        vertical-align: top;\n",
       "    }\n",
       "\n",
       "    .dataframe thead th {\n",
       "        text-align: right;\n",
       "    }\n",
       "</style>\n",
       "<table border=\"1\" class=\"dataframe\">\n",
       "  <thead>\n",
       "    <tr style=\"text-align: right;\">\n",
       "      <th></th>\n",
       "      <th>tokens</th>\n",
       "      <th>stemmed_tokens</th>\n",
       "      <th>stemmed_text</th>\n",
       "    </tr>\n",
       "  </thead>\n",
       "  <tbody>\n",
       "    <tr>\n",
       "      <th>0</th>\n",
       "      <td>[yogyakarta, pemerintah, kementerian, perhubun...</td>\n",
       "      <td>[yogyakarta, perintah, menteri, hubung, bijak,...</td>\n",
       "      <td>yogyakarta perintah menteri hubung bijak naik ...</td>\n",
       "    </tr>\n",
       "    <tr>\n",
       "      <th>1</th>\n",
       "      <td>[rencana, pemerintah, menaikkan, tarif, dasar,...</td>\n",
       "      <td>[rencana, perintah, naik, tarif, dasar, ojek, ...</td>\n",
       "      <td>rencana perintah naik tarif dasar ojek online ...</td>\n",
       "    </tr>\n",
       "    <tr>\n",
       "      <th>2</th>\n",
       "      <td>[penelitian, pengguna, ojol, tolak, kenaikan, ...</td>\n",
       "      <td>[teliti, guna, ojol, tolak, naik, tarif, ilust...</td>\n",
       "      <td>teliti guna ojol tolak naik tarif ilustrasi tu...</td>\n",
       "    </tr>\n",
       "    <tr>\n",
       "      <th>3</th>\n",
       "      <td>[kaji, perubahan, tarif, ojek, online, mengiku...</td>\n",
       "      <td>[kaji, ubah, tarif, ojek, online, ikut, regula...</td>\n",
       "      <td>kaji ubah tarif ojek online ikut regulasi peri...</td>\n",
       "    </tr>\n",
       "    <tr>\n",
       "      <th>4</th>\n",
       "      <td>[rised, menilai, penerapan, kenaikan, tarif, o...</td>\n",
       "      <td>[rised, nilai, terap, naik, tarif, ojol, nilai...</td>\n",
       "      <td>rised nilai terap naik tarif ojol nilai risiko...</td>\n",
       "    </tr>\n",
       "  </tbody>\n",
       "</table>\n",
       "</div>"
      ],
      "text/plain": [
       "                                              tokens  \\\n",
       "0  [yogyakarta, pemerintah, kementerian, perhubun...   \n",
       "1  [rencana, pemerintah, menaikkan, tarif, dasar,...   \n",
       "2  [penelitian, pengguna, ojol, tolak, kenaikan, ...   \n",
       "3  [kaji, perubahan, tarif, ojek, online, mengiku...   \n",
       "4  [rised, menilai, penerapan, kenaikan, tarif, o...   \n",
       "\n",
       "                                      stemmed_tokens  \\\n",
       "0  [yogyakarta, perintah, menteri, hubung, bijak,...   \n",
       "1  [rencana, perintah, naik, tarif, dasar, ojek, ...   \n",
       "2  [teliti, guna, ojol, tolak, naik, tarif, ilust...   \n",
       "3  [kaji, ubah, tarif, ojek, online, ikut, regula...   \n",
       "4  [rised, nilai, terap, naik, tarif, ojol, nilai...   \n",
       "\n",
       "                                        stemmed_text  \n",
       "0  yogyakarta perintah menteri hubung bijak naik ...  \n",
       "1  rencana perintah naik tarif dasar ojek online ...  \n",
       "2  teliti guna ojol tolak naik tarif ilustrasi tu...  \n",
       "3  kaji ubah tarif ojek online ikut regulasi peri...  \n",
       "4  rised nilai terap naik tarif ojol nilai risiko...  "
      ]
     },
     "execution_count": 26,
     "metadata": {},
     "output_type": "execute_result"
    }
   ],
   "source": [
    "# Install Sastrawi kalau belum ada (jalankan sekali saja di Colab)\n",
    "!pip install Sastrawi --quiet\n",
    "\n",
    "from Sastrawi.Stemmer.StemmerFactory import StemmerFactory\n",
    "\n",
    "# Inisialisasi stemmer Bahasa Indonesia\n",
    "factory = StemmerFactory()\n",
    "stemmer = factory.create_stemmer()\n",
    "\n",
    "# 🔹 Daftar kata penting yang tidak boleh di-stem (dilindungi)\n",
    "protect_words = [\n",
    "    'gojek', 'goride', 'gocar', 'gopay', 'gopaylater', 'gosend',\n",
    "    'gomart', 'gofood', 'driver', 'pelanggan', 'layanan', \n",
    "    'ojek', 'aplikasi', 'pengemudi', 'promo', 'transaksi', \n",
    "    'fitur', 'tarif', 'pesanan', 'akun', 'mitra'\n",
    "]\n",
    "\n",
    "# 🔹 Fungsi stemming dengan pengecualian kata penting\n",
    "def stem_tokens(tokens):\n",
    "    stemmed = []\n",
    "    for token in tokens:\n",
    "        if token in protect_words:\n",
    "            stemmed.append(token)  # kata penting tetap dipertahankan\n",
    "        else:\n",
    "            stemmed.append(stemmer.stem(token))  # lakukan stemming normal\n",
    "    return stemmed\n",
    "\n",
    "# 🔹 Terapkan fungsi stemming ke dataframe\n",
    "df_article['stemmed_tokens'] = df_article['tokens'].apply(stem_tokens)\n",
    "\n",
    "# 🔹 Gabungkan token hasil stemming jadi kalimat\n",
    "df_article['stemmed_text'] = df_article['stemmed_tokens'].apply(lambda x: ' '.join(x))\n",
    "\n",
    "print(\"🪶 Contoh hasil stemming (dengan kata penting dipertahankan):\")\n",
    "df_article[['tokens', 'stemmed_tokens', 'stemmed_text']].head(5)\n"
   ]
  },
  {
   "cell_type": "code",
   "execution_count": 27,
   "id": "8a554a4f",
   "metadata": {},
   "outputs": [
    {
     "name": "stdout",
     "output_type": "stream",
     "text": [
      "✅ File 'cleaned_gojek_text_final.csv' berhasil disimpan!\n",
      "Kolom disertakan: ['article_text', 'tanggal', 'cleaned_text', 'tokens', 'stemmed_tokens', 'stemmed_text', 'polarity', 'sentiment', 'tag']\n",
      "Total artikel tersimpan: 158\n"
     ]
    }
   ],
   "source": [
    "# =====================================================\n",
    "# 🟢 Simpan Hasil Analisis Sentimen Berita Gojek ke CSV\n",
    "# =====================================================\n",
    "\n",
    "# Urutan kolom tanpa publish_date / Date\n",
    "final_cols = [\n",
    "    'No', 'Title', 'Source', 'URL',\n",
    "    'article_text', 'tanggal', 'cleaned_text',\n",
    "    'tokens', 'stemmed_tokens', 'stemmed_text',\n",
    "    'polarity', 'sentiment', 'tag'\n",
    "]\n",
    "\n",
    "# Cek kolom yang memang tersedia di dataframe\n",
    "available_cols = [c for c in final_cols if c in df_article.columns]\n",
    "\n",
    "# Simpan ke file CSV dengan encoding aman untuk Excel\n",
    "df_article[available_cols].to_csv(\"cleaned_gojek_text_final.csv\", index=False, encoding='utf-8-sig')\n",
    "\n",
    "print(\"✅ File 'cleaned_gojek_text_final.csv' berhasil disimpan!\")\n",
    "print(f\"Kolom disertakan: {available_cols}\")\n",
    "print(f\"Total artikel tersimpan: {len(df_article)}\")\n"
   ]
  },
  {
   "cell_type": "code",
   "execution_count": 28,
   "id": "5339ffbb",
   "metadata": {},
   "outputs": [
    {
     "name": "stderr",
     "output_type": "stream",
     "text": [
      "\n",
      "[notice] A new release of pip is available: 25.0.1 -> 25.2\n",
      "[notice] To update, run: python.exe -m pip install --upgrade pip\n"
     ]
    },
    {
     "name": "stdout",
     "output_type": "stream",
     "text": [
      "✅ File berhasil disimpan dalam dua format:\n",
      "   - cleaned_gojek_text_final.csv\n",
      "   - cleaned_gojek_text_final.xlsx\n",
      "Kolom disertakan: ['article_text', 'tanggal', 'cleaned_text', 'tokens', 'stemmed_tokens', 'stemmed_text', 'polarity', 'sentiment', 'tag']\n",
      "Total artikel tersimpan: 158\n"
     ]
    }
   ],
   "source": [
    "# =====================================================\n",
    "# 🟢 Simpan Hasil Analisis Sentimen Berita Gojek ke CSV & Excel\n",
    "# =====================================================\n",
    "!pip install openpyxl --quiet\n",
    "\n",
    "# Urutan kolom tanpa publish_date / Date\n",
    "final_cols = [\n",
    "    'No', 'Title', 'Source', 'URL',\n",
    "    'article_text', 'tanggal', 'cleaned_text',\n",
    "    'tokens', 'stemmed_tokens', 'stemmed_text',\n",
    "    'polarity', 'sentiment', 'tag'\n",
    "]\n",
    "\n",
    "# Cek kolom yang memang tersedia di dataframe\n",
    "available_cols = [c for c in final_cols if c in df_article.columns]\n",
    "\n",
    "# =====================================================\n",
    "# Simpan ke file CSV\n",
    "# =====================================================\n",
    "df_article[available_cols].to_csv(\n",
    "    \"cleaned_gojek_text_final.csv\",\n",
    "    index=False,\n",
    "    encoding='utf-8-sig'\n",
    ")\n",
    "\n",
    "# =====================================================\n",
    "# Simpan ke file Excel (.xlsx)\n",
    "# =====================================================\n",
    "df_article[available_cols].to_excel(\n",
    "    \"cleaned_gojek_text_final.xlsx\",\n",
    "    index=False,\n",
    "    engine='openpyxl'\n",
    ")\n",
    "\n",
    "print(\"✅ File berhasil disimpan dalam dua format:\")\n",
    "print(\"   - cleaned_gojek_text_final.csv\")\n",
    "print(\"   - cleaned_gojek_text_final.xlsx\")\n",
    "print(f\"Kolom disertakan: {available_cols}\")\n",
    "print(f\"Total artikel tersimpan: {len(df_article)}\")\n"
   ]
  },
  {
   "cell_type": "code",
   "execution_count": 29,
   "id": "cc7eb86a",
   "metadata": {},
   "outputs": [
    {
     "name": "stdout",
     "output_type": "stream",
     "text": [
      "  sentiment         tag\n",
      "0   neutral  Local News\n",
      "1   neutral    Economic\n",
      "2  positive    Academic\n",
      "3  positive    Economic\n",
      "4   neutral    Economic\n"
     ]
    },
    {
     "data": {
      "image/png": "[encoded data removed]",
      "text/plain": [
       "<Figure size 1000x600 with 1 Axes>"
      ]
     },
     "metadata": {},
     "output_type": "display_data"
    }
   ],
   "source": [
    "import pandas as pd\n",
    "import matplotlib.pyplot as plt\n",
    "\n",
    "# 1. Baca file Excel\n",
    "df = pd.read_excel(\"../Data/cleaned_gojek_text_final.xlsx\")\n",
    "\n",
    "# 2. Lihat isi kolom untuk memastikan\n",
    "print(df[['sentiment', 'tag']].head())\n",
    "\n",
    "# 3. Hitung jumlah data berdasarkan kombinasi sentiment dan content_label\n",
    "count_data = df.groupby(['tag', 'sentiment']).size().unstack(fill_value=0)\n",
    "\n",
    "# 4. Buat visualisasi (bar chart) dengan warna khusus per sentimen\n",
    "colors = {\n",
    "    'negative': '#FF8A80',  # pastel red\n",
    "    'neutral': '#CFD8DC',   # light gray-blue\n",
    "    'positive': '#A5D6A7'   # mint green\n",
    "}\n",
    "\n",
    "count_data.plot(kind='bar', figsize=(10,6), color=[colors[col] for col in count_data.columns])\n",
    "\n",
    "# 5. Tambahkan judul dan label\n",
    "plt.title('Distribusi Sentimen Berdasarkan Label')\n",
    "plt.xlabel('Kategori Konten (content_label)')\n",
    "plt.ylabel('Jumlah Artikel')\n",
    "plt.legend(title='Sentimen')\n",
    "plt.xticks(rotation=45)\n",
    "plt.tight_layout()\n",
    "\n",
    "# 6. Tampilkan grafik\n",
    "plt.show()"
   ]
  },
  {
   "cell_type": "code",
   "execution_count": 30,
   "id": "96276821",
   "metadata": {},
   "outputs": [
    {
     "data": {
      "image/png": "[encoded data removed]",
      "text/plain": [
       "<Figure size 500x500 with 1 Axes>"
      ]
     },
     "metadata": {},
     "output_type": "display_data"
    }
   ],
   "source": [
    "# Pie chart total sentimen\n",
    "df['sentiment'].value_counts().plot(kind='pie', autopct='%1.1f%%', figsize=(5,5))\n",
    "plt.title('Persentase Sentimen Keseluruhan')\n",
    "plt.ylabel('')\n",
    "plt.show()\n"
   ]
  },
  {
   "cell_type": "code",
   "execution_count": 31,
   "id": "e3a4fc05",
   "metadata": {},
   "outputs": [
    {
     "data": {
      "image/png": "[encoded data removed]",
      "text/plain": [
       "<Figure size 500x500 with 1 Axes>"
      ]
     },
     "metadata": {},
     "output_type": "display_data"
    }
   ],
   "source": [
    "\n",
    "# Pie chart opini\n",
    "df['tag'].value_counts().plot(kind='pie', autopct='%1.1f%%', figsize=(5,5))\n",
    "plt.title('Persentase Label Keseluruhan')\n",
    "plt.ylabel('')\n",
    "plt.show()"
   ]
  }
 ],
 "metadata": {
  "kernelspec": {
   "display_name": "Python 3",
   "language": "python",
   "name": "python3"
  },
  "language_info": {
   "codemirror_mode": {
    "name": "ipython",
    "version": 3
   },
   "file_extension": ".py",
   "mimetype": "text/x-python",
   "name": "python",
   "nbconvert_exporter": "python",
   "pygments_lexer": "ipython3",
   "version": "3.13.3"
  }
 },
 "nbformat": 4,
 "nbformat_minor": 5
}
